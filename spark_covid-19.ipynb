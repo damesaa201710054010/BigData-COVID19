{
 "cells": [
  {
   "cell_type": "code",
   "execution_count": 1,
   "metadata": {},
   "outputs": [
    {
     "data": {
      "application/vnd.jupyter.widget-view+json": {
       "model_id": "6d7b8480153e43a49d690d0bc2041d65",
       "version_major": 2,
       "version_minor": 0
      },
      "text/plain": [
       "VBox()"
      ]
     },
     "metadata": {},
     "output_type": "display_data"
    },
    {
     "name": "stdout",
     "output_type": "stream",
     "text": [
      "Starting Spark application\n"
     ]
    },
    {
     "data": {
      "text/html": [
       "<table>\n",
       "<tr><th>ID</th><th>YARN Application ID</th><th>Kind</th><th>State</th><th>Spark UI</th><th>Driver log</th><th>Current session?</th></tr><tr><td>1</td><td>application_1589585792117_0002</td><td>pyspark</td><td>idle</td><td><a target=\"_blank\" href=\"http://ip-172-31-59-25.ec2.internal:20888/proxy/application_1589585792117_0002/\">Link</a></td><td><a target=\"_blank\" href=\"http://ip-172-31-56-47.ec2.internal:8042/node/containerlogs/container_1589585792117_0002_01_000001/livy\">Link</a></td><td>✔</td></tr></table>"
      ],
      "text/plain": [
       "<IPython.core.display.HTML object>"
      ]
     },
     "metadata": {},
     "output_type": "display_data"
    },
    {
     "data": {
      "application/vnd.jupyter.widget-view+json": {
       "model_id": "",
       "version_major": 2,
       "version_minor": 0
      },
      "text/plain": [
       "FloatProgress(value=0.0, bar_style='info', description='Progress:', layout=Layout(height='25px', width='50%'),…"
      ]
     },
     "metadata": {},
     "output_type": "display_data"
    },
    {
     "name": "stdout",
     "output_type": "stream",
     "text": [
      "SparkSession available as 'spark'.\n"
     ]
    },
    {
     "data": {
      "application/vnd.jupyter.widget-view+json": {
       "model_id": "",
       "version_major": 2,
       "version_minor": 0
      },
      "text/plain": [
       "FloatProgress(value=0.0, bar_style='info', description='Progress:', layout=Layout(height='25px', width='50%'),…"
      ]
     },
     "metadata": {},
     "output_type": "display_data"
    },
    {
     "name": "stdout",
     "output_type": "stream",
     "text": [
      "<SparkContext master=yarn appName=livy-session-1>"
     ]
    }
   ],
   "source": [
    "sc"
   ]
  },
  {
   "cell_type": "code",
   "execution_count": 66,
   "metadata": {},
   "outputs": [
    {
     "data": {
      "application/vnd.jupyter.widget-view+json": {
       "model_id": "083a87b897c5478485571148eddfcf2d",
       "version_major": 2,
       "version_minor": 0
      },
      "text/plain": [
       "VBox()"
      ]
     },
     "metadata": {},
     "output_type": "display_data"
    },
    {
     "data": {
      "application/vnd.jupyter.widget-view+json": {
       "model_id": "",
       "version_major": 2,
       "version_minor": 0
      },
      "text/plain": [
       "FloatProgress(value=0.0, bar_style='info', description='Progress:', layout=Layout(height='25px', width='50%'),…"
      ]
     },
     "metadata": {},
     "output_type": "display_data"
    },
    {
     "name": "stderr",
     "output_type": "stream",
     "text": [
      "No module named 'matplotlib'\n",
      "Traceback (most recent call last):\n",
      "ModuleNotFoundError: No module named 'matplotlib'\n",
      "\n"
     ]
    }
   ],
   "source": [
    "import pandas as pd\n",
    "import matplotlib.pyplot as plt"
   ]
  },
  {
   "cell_type": "code",
   "execution_count": 3,
   "metadata": {},
   "outputs": [
    {
     "data": {
      "application/vnd.jupyter.widget-view+json": {
       "model_id": "9e3f7511fe2241d5912a321c51c98722",
       "version_major": 2,
       "version_minor": 0
      },
      "text/plain": [
       "VBox()"
      ]
     },
     "metadata": {},
     "output_type": "display_data"
    },
    {
     "data": {
      "application/vnd.jupyter.widget-view+json": {
       "model_id": "",
       "version_major": 2,
       "version_minor": 0
      },
      "text/plain": [
       "FloatProgress(value=0.0, bar_style='info', description='Progress:', layout=Layout(height='25px', width='50%'),…"
      ]
     },
     "metadata": {},
     "output_type": "display_data"
    },
    {
     "name": "stdout",
     "output_type": "stream",
     "text": [
      "ID de caso,Fecha de notificación,Codigo DIVIPOLA,Ciudad de ubicación,Departamento o Distrito ,atención,Edad,Sexo,Tipo,Estado,País de procedencia,FIS,Fecha de muerte,Fecha diagnostico,Fecha recuperado,fecha reporte web\n",
      "#meta+id,#date+notification,#code,#adm3+name,#adm2+name,#indicator+infected+type,#indicator+infected+age,#indicator+infected+sex,,#indicator+infected+status,#indicator+infected+origin,,#date+reported+death,#date+reported+notification,#date+reported+recovered,#date+reported\n",
      "1,2020-03-02T00:00:00.000,11001,Bogotá D.C.,Bogotá D.C.,Recuperado,19,F,Importado,Recuperado,Italia,2020-02-27T00:00:00.000,-   -,2020-03-06T00:00:00.000,2020-03-13T00:00:00.000,2020-03-06T00:00:00.000\n",
      "2,2020-03-06T00:00:00.000,76111,Guadalajara de Buga,Valle del Cauca,Recuperado,34,M,Importado,Recuperado,España,2020-03-04T00:00:00.000,-   -,2020-03-09T00:00:00.000,2020-03-19T00:00:00.000,2020-03-09T00:00:00.000\n",
      "3,2020-03-07T00:00:00.000,5001,Medellín,Antioquia,Recuperado,50,F,Importado,Recuperado,España,2020-02-29T00:00:00.000,-   -,2020-03-09T00:00:00.000,2020-03-15T00:00:00.000,2020-03-09T00:00:00.000\n",
      "4,2020-03-09T00:00:00.000,5001,Medellín,Antioquia,Recuperado,55,M,Relacionado,Recuperado,Colombia,2020-03-06T00:00:00.000,-   -,2020-03-11T00:00:00.000,2020-03-26T00:00:00.000,2020-03-11T00:00:00.000\n",
      "5,2020-03-09T00:00:00.000,5001,Medellín,Antioquia,Recuperado,25,M,Relacionado,Recuperado,Colombia,2020-03-08T00:00:00.000,-   -,2020-03-11T00:00:00.000,2020-03-23T00:00:00.000,2020-03-11T00:00:00.000\n",
      "6,2020-03-10T00:00:00.000,5360,Itagüí,Antioquia,Recuperado,27,F,Relacionado,Recuperado,Colombia,2020-03-06T00:00:00.000,-   -,2020-03-11T00:00:00.000,2020-03-26T00:00:00.000,2020-03-11T00:00:00.000\n",
      "7,2020-03-08T00:00:00.000,13001,Cartagena de Indias,Cartagena D.T. y C.,Recuperado,85,F,Importado,Recuperado,Estados Unidos de América,2020-03-02T00:00:00.000,-   -,2020-03-11T00:00:00.000,2020-03-17T00:00:00.000,2020-03-11T00:00:00.000\n",
      "8,2020-03-09T00:00:00.000,11001,Bogotá D.C.,Bogotá D.C.,Recuperado,22,F,Importado,Recuperado,España,2020-03-06T00:00:00.000,-   -,2020-03-11T00:00:00.000,2020-03-21T00:00:00.000,2020-03-11T00:00:00.000"
     ]
    }
   ],
   "source": [
    "files = sc.textFile(\"s3://jscorreacdatasets/covid-19/data.csv\")\n",
    "for f in files.take(10):\n",
    "    print(f)"
   ]
  },
  {
   "cell_type": "code",
   "execution_count": null,
   "metadata": {},
   "outputs": [],
   "source": [
    "files_ = sc.textFile(\"s3://jscorreacdatasets/covid-19/data.csv\")"
   ]
  },
  {
   "cell_type": "code",
   "execution_count": 4,
   "metadata": {},
   "outputs": [
    {
     "data": {
      "application/vnd.jupyter.widget-view+json": {
       "model_id": "af746ab8b2b045f7a89b1c3a56c2c4bb",
       "version_major": 2,
       "version_minor": 0
      },
      "text/plain": [
       "VBox()"
      ]
     },
     "metadata": {},
     "output_type": "display_data"
    },
    {
     "data": {
      "application/vnd.jupyter.widget-view+json": {
       "model_id": "",
       "version_major": 2,
       "version_minor": 0
      },
      "text/plain": [
       "FloatProgress(value=0.0, bar_style='info', description='Progress:', layout=Layout(height='25px', width='50%'),…"
      ]
     },
     "metadata": {},
     "output_type": "display_data"
    },
    {
     "name": "stdout",
     "output_type": "stream",
     "text": [
      "Collecting pyarrow\n",
      "  Downloading pyarrow-0.17.0-cp36-cp36m-manylinux2014_x86_64.whl (63.8 MB)\n",
      "Requirement already satisfied: numpy>=1.14 in /usr/local/lib64/python3.6/site-packages (from pyarrow) (1.14.5)\n",
      "Installing collected packages: pyarrow\n",
      "Successfully installed pyarrow-0.17.0"
     ]
    }
   ],
   "source": [
    "sc.install_pypi_package(\"pyarrow\")"
   ]
  },
  {
   "cell_type": "code",
   "execution_count": 37,
   "metadata": {},
   "outputs": [
    {
     "data": {
      "application/vnd.jupyter.widget-view+json": {
       "model_id": "a4adbfb9f41d477da9d3b7ef33ad58ef",
       "version_major": 2,
       "version_minor": 0
      },
      "text/plain": [
       "VBox()"
      ]
     },
     "metadata": {},
     "output_type": "display_data"
    },
    {
     "data": {
      "application/vnd.jupyter.widget-view+json": {
       "model_id": "",
       "version_major": 2,
       "version_minor": 0
      },
      "text/plain": [
       "FloatProgress(value=0.0, bar_style='info', description='Progress:', layout=Layout(height='25px', width='50%'),…"
      ]
     },
     "metadata": {},
     "output_type": "display_data"
    },
    {
     "name": "stdout",
     "output_type": "stream",
     "text": [
      "Requirement already satisfied: numPy in /usr/local/lib64/python3.6/site-packages (1.14.5)"
     ]
    }
   ],
   "source": [
    "sc.install_pypi_package(\"numPy\")"
   ]
  },
  {
   "cell_type": "code",
   "execution_count": 59,
   "metadata": {},
   "outputs": [
    {
     "data": {
      "application/vnd.jupyter.widget-view+json": {
       "model_id": "254107d11e894a968f6057a190bb86a6",
       "version_major": 2,
       "version_minor": 0
      },
      "text/plain": [
       "VBox()"
      ]
     },
     "metadata": {},
     "output_type": "display_data"
    },
    {
     "data": {
      "application/vnd.jupyter.widget-view+json": {
       "model_id": "",
       "version_major": 2,
       "version_minor": 0
      },
      "text/plain": [
       "FloatProgress(value=0.0, bar_style='info', description='Progress:', layout=Layout(height='25px', width='50%'),…"
      ]
     },
     "metadata": {},
     "output_type": "display_data"
    },
    {
     "name": "stderr",
     "output_type": "stream",
     "text": [
      "Package already installed for current Spark context!\n",
      "Traceback (most recent call last):\n",
      "  File \"/usr/lib/spark/python/lib/pyspark.zip/pyspark/context.py\", line 1110, in install_pypi_package\n",
      "    raise ValueError(\"Package already installed for current Spark context!\")\n",
      "ValueError: Package already installed for current Spark context!\n",
      "\n"
     ]
    }
   ],
   "source": [
    "sc.install_pypi_package(\"Pandas\")"
   ]
  },
  {
   "cell_type": "code",
   "execution_count": 7,
   "metadata": {},
   "outputs": [
    {
     "data": {
      "application/vnd.jupyter.widget-view+json": {
       "model_id": "4a451565c6654e739d39435fe9a68e34",
       "version_major": 2,
       "version_minor": 0
      },
      "text/plain": [
       "VBox()"
      ]
     },
     "metadata": {},
     "output_type": "display_data"
    },
    {
     "data": {
      "application/vnd.jupyter.widget-view+json": {
       "model_id": "",
       "version_major": 2,
       "version_minor": 0
      },
      "text/plain": [
       "FloatProgress(value=0.0, bar_style='info', description='Progress:', layout=Layout(height='25px', width='50%'),…"
      ]
     },
     "metadata": {},
     "output_type": "display_data"
    }
   ],
   "source": [
    "from pyspark.sql import SparkSession"
   ]
  },
  {
   "cell_type": "code",
   "execution_count": 8,
   "metadata": {},
   "outputs": [
    {
     "data": {
      "application/vnd.jupyter.widget-view+json": {
       "model_id": "5250a4ab50ba4e96a73ec3038918029e",
       "version_major": 2,
       "version_minor": 0
      },
      "text/plain": [
       "VBox()"
      ]
     },
     "metadata": {},
     "output_type": "display_data"
    },
    {
     "data": {
      "application/vnd.jupyter.widget-view+json": {
       "model_id": "",
       "version_major": 2,
       "version_minor": 0
      },
      "text/plain": [
       "FloatProgress(value=0.0, bar_style='info', description='Progress:', layout=Layout(height='25px', width='50%'),…"
      ]
     },
     "metadata": {},
     "output_type": "display_data"
    }
   ],
   "source": [
    "spark=SparkSession.builder.appName('data_covid').getOrCreate()"
   ]
  },
  {
   "cell_type": "code",
   "execution_count": 10,
   "metadata": {},
   "outputs": [
    {
     "data": {
      "application/vnd.jupyter.widget-view+json": {
       "model_id": "7b51f60796804749a22663c421f5805a",
       "version_major": 2,
       "version_minor": 0
      },
      "text/plain": [
       "VBox()"
      ]
     },
     "metadata": {},
     "output_type": "display_data"
    },
    {
     "data": {
      "application/vnd.jupyter.widget-view+json": {
       "model_id": "",
       "version_major": 2,
       "version_minor": 0
      },
      "text/plain": [
       "FloatProgress(value=0.0, bar_style='info', description='Progress:', layout=Layout(height='25px', width='50%'),…"
      ]
     },
     "metadata": {},
     "output_type": "display_data"
    }
   ],
   "source": [
    "dfc=spark.read.csv('s3://jscorreacdatasets/covid-19/data.csv',inferSchema=True,header=True)"
   ]
  },
  {
   "cell_type": "code",
   "execution_count": 11,
   "metadata": {},
   "outputs": [
    {
     "data": {
      "application/vnd.jupyter.widget-view+json": {
       "model_id": "e3989b54dc5f4bd29a511edcd7d5b44d",
       "version_major": 2,
       "version_minor": 0
      },
      "text/plain": [
       "VBox()"
      ]
     },
     "metadata": {},
     "output_type": "display_data"
    },
    {
     "data": {
      "application/vnd.jupyter.widget-view+json": {
       "model_id": "",
       "version_major": 2,
       "version_minor": 0
      },
      "text/plain": [
       "FloatProgress(value=0.0, bar_style='info', description='Progress:', layout=Layout(height='25px', width='50%'),…"
      ]
     },
     "metadata": {},
     "output_type": "display_data"
    }
   ],
   "source": [
    "dfm=spark.read.csv('s3://jscorreacdatasets/covid-19/time_series_covid19_confirmed_global_iso3_regions.csv',inferSchema=True,header=True)"
   ]
  },
  {
   "cell_type": "code",
   "execution_count": 67,
   "metadata": {},
   "outputs": [
    {
     "data": {
      "application/vnd.jupyter.widget-view+json": {
       "model_id": "c63edc615cfe4607b7c028db8521740d",
       "version_major": 2,
       "version_minor": 0
      },
      "text/plain": [
       "VBox()"
      ]
     },
     "metadata": {},
     "output_type": "display_data"
    },
    {
     "data": {
      "application/vnd.jupyter.widget-view+json": {
       "model_id": "",
       "version_major": 2,
       "version_minor": 0
      },
      "text/plain": [
       "FloatProgress(value=0.0, bar_style='info', description='Progress:', layout=Layout(height='25px', width='50%'),…"
      ]
     },
     "metadata": {},
     "output_type": "display_data"
    }
   ],
   "source": [
    "dfm_recovered=spark.read.csv('s3://jscorreacdatasets/covid-19/time_series_covid19_recovered_global.csv',inferSchema=True,header=True)"
   ]
  },
  {
   "cell_type": "code",
   "execution_count": null,
   "metadata": {
    "scrolled": true
   },
   "outputs": [
    {
     "data": {
      "application/vnd.jupyter.widget-view+json": {
       "model_id": "5af8c3ad80e9401f829eba989c5d3527",
       "version_major": 2,
       "version_minor": 0
      },
      "text/plain": [
       "VBox()"
      ]
     },
     "metadata": {},
     "output_type": "display_data"
    },
    {
     "data": {
      "application/vnd.jupyter.widget-view+json": {
       "model_id": "8f248061ceee4c3fabaa309c56d16bc4",
       "version_major": 2,
       "version_minor": 0
      },
      "text/plain": [
       "FloatProgress(value=0.0, bar_style='info', description='Progress:', layout=Layout(height='25px', width='50%'),…"
      ]
     },
     "metadata": {},
     "output_type": "display_data"
    }
   ],
   "source": [
    "dfm_death=spark.read.csv('s3://jscorreacdatasets/covid-19/time_series_covid19_deaths_global.csv',inferSchema=True,header=True)"
   ]
  },
  {
   "cell_type": "code",
   "execution_count": 12,
   "metadata": {},
   "outputs": [
    {
     "data": {
      "application/vnd.jupyter.widget-view+json": {
       "model_id": "e78f730802ff402bb2ec5f44c6aea6ca",
       "version_major": 2,
       "version_minor": 0
      },
      "text/plain": [
       "VBox()"
      ]
     },
     "metadata": {},
     "output_type": "display_data"
    },
    {
     "data": {
      "application/vnd.jupyter.widget-view+json": {
       "model_id": "",
       "version_major": 2,
       "version_minor": 0
      },
      "text/plain": [
       "FloatProgress(value=0.0, bar_style='info', description='Progress:', layout=Layout(height='25px', width='50%'),…"
      ]
     },
     "metadata": {},
     "output_type": "display_data"
    },
    {
     "name": "stdout",
     "output_type": "stream",
     "text": [
      "root\n",
      " |-- ID de caso: string (nullable = true)\n",
      " |-- Fecha de notificación: string (nullable = true)\n",
      " |-- Codigo DIVIPOLA: string (nullable = true)\n",
      " |-- Ciudad de ubicación: string (nullable = true)\n",
      " |-- Departamento o Distrito : string (nullable = true)\n",
      " |-- atención: string (nullable = true)\n",
      " |-- Edad: string (nullable = true)\n",
      " |-- Sexo: string (nullable = true)\n",
      " |-- Tipo: string (nullable = true)\n",
      " |-- Estado: string (nullable = true)\n",
      " |-- País de procedencia: string (nullable = true)\n",
      " |-- FIS: string (nullable = true)\n",
      " |-- Fecha de muerte: string (nullable = true)\n",
      " |-- Fecha diagnostico: string (nullable = true)\n",
      " |-- Fecha recuperado: string (nullable = true)\n",
      " |-- fecha reporte web: string (nullable = true)"
     ]
    }
   ],
   "source": [
    "dfc.printSchema()"
   ]
  },
  {
   "cell_type": "code",
   "execution_count": 14,
   "metadata": {},
   "outputs": [
    {
     "data": {
      "application/vnd.jupyter.widget-view+json": {
       "model_id": "0e2f4eac004e491e91b9c18f9705af38",
       "version_major": 2,
       "version_minor": 0
      },
      "text/plain": [
       "VBox()"
      ]
     },
     "metadata": {},
     "output_type": "display_data"
    },
    {
     "data": {
      "application/vnd.jupyter.widget-view+json": {
       "model_id": "",
       "version_major": 2,
       "version_minor": 0
      },
      "text/plain": [
       "FloatProgress(value=0.0, bar_style='info', description='Progress:', layout=Layout(height='25px', width='50%'),…"
      ]
     },
     "metadata": {},
     "output_type": "display_data"
    },
    {
     "name": "stdout",
     "output_type": "stream",
     "text": [
      "Row(Province/State='#adm1+name', Country/Region='#country+name', Lat='#geo+lat', Long='#geo+lon', 1/22/20=None, 1/23/20=None, 1/24/20=None, 1/25/20=None, 1/26/20=None, 1/27/20=None, 1/28/20=None, 1/29/20=None, 1/30/20=None, 1/31/20=None, 2/1/20=None, 2/2/20=None, 2/3/20=None, 2/4/20=None, 2/5/20=None, 2/6/20=None, 2/7/20=None, 2/8/20=None, 2/9/20=None, 2/10/20=None, 2/11/20=None, 2/12/20=None, 2/13/20=None, 2/14/20=None, 2/15/20=None, 2/16/20=None, 2/17/20=None, 2/18/20=None, 2/19/20=None, 2/20/20=None, 2/21/20=None, 2/22/20=None, 2/23/20=None, 2/24/20=None, 2/25/20=None, 2/26/20=None, 2/27/20=None, 2/28/20=None, 2/29/20=None, 3/1/20=None, 3/2/20=None, 3/3/20=None, 3/4/20=None, 3/5/20=None, 3/6/20=None, 3/7/20=None, 3/8/20=None, 3/9/20=None, 3/10/20=None, 3/11/20=None, 3/12/20=None, 3/13/20=None, 3/14/20=None, 3/15/20=None, 3/16/20=None, 3/17/20=None, 3/18/20=None, 3/19/20=None, 3/20/20=None, 3/21/20=None, 3/22/20=None, 3/23/20=None, 3/24/20=None, 3/25/20=None, 3/26/20=None, 3/27/20=None, 3/28/20=None, 3/29/20=None, 3/30/20=None, 3/31/20=None, 4/1/20=None, 4/2/20=None, 4/3/20=None, 4/4/20=None, 4/5/20=None, 4/6/20=None, 4/7/20=None, 4/8/20=None, 4/9/20=None, 4/10/20=None, 4/11/20=None, 4/12/20=None, 4/13/20=None, 4/14/20=None, 4/15/20=None, 4/16/20=None, 4/17/20=None, 4/18/20=None, 4/19/20=None, 4/20/20=None, 4/21/20=None, 4/22/20=None, 4/23/20=None, 4/24/20=None, 4/25/20=None, 4/26/20=None, 4/27/20=None, 4/28/20=None, 4/29/20=None, 4/30/20=None, 5/1/20=None, 5/2/20=None, 5/3/20=None, 5/4/20=None, 5/5/20=None, 5/6/20=None, 5/7/20=None, 5/8/20=None, 5/9/20=None, 5/10/20=None, 5/11/20=None, 5/12/20=None, 5/13/20=None, 5/14/20=None, ISO 3166-1 Alpha 3-Codes='#country+code', Region Code='#region+main+code', Region Name='#region+main+name', Sub-region Code='#region+sub+code', Sub-region Name='#region+sub+name', Intermediate Region Code='#region+intermediate+code', Intermediate Region Name='#region+intermediate+name')"
     ]
    }
   ],
   "source": [
    "dfm.head()"
   ]
  },
  {
   "cell_type": "code",
   "execution_count": 61,
   "metadata": {},
   "outputs": [
    {
     "data": {
      "application/vnd.jupyter.widget-view+json": {
       "model_id": "070fa43fc46041798a7536288ab46187",
       "version_major": 2,
       "version_minor": 0
      },
      "text/plain": [
       "VBox()"
      ]
     },
     "metadata": {},
     "output_type": "display_data"
    },
    {
     "data": {
      "application/vnd.jupyter.widget-view+json": {
       "model_id": "",
       "version_major": 2,
       "version_minor": 0
      },
      "text/plain": [
       "FloatProgress(value=0.0, bar_style='info', description='Progress:', layout=Layout(height='25px', width='50%'),…"
      ]
     },
     "metadata": {},
     "output_type": "display_data"
    },
    {
     "name": "stdout",
     "output_type": "stream",
     "text": [
      "['Province/State', 'Country/Region', 'Lat', 'Long', '1/22/20', '1/23/20', '1/24/20', '1/25/20', '1/26/20', '1/27/20', '1/28/20', '1/29/20', '1/30/20', '1/31/20', '2/1/20', '2/2/20', '2/3/20', '2/4/20', '2/5/20', '2/6/20', '2/7/20', '2/8/20', '2/9/20', '2/10/20', '2/11/20', '2/12/20', '2/13/20', '2/14/20', '2/15/20', '2/16/20', '2/17/20', '2/18/20', '2/19/20', '2/20/20', '2/21/20', '2/22/20', '2/23/20', '2/24/20', '2/25/20', '2/26/20', '2/27/20', '2/28/20', '2/29/20', '3/1/20', '3/2/20', '3/3/20', '3/4/20', '3/5/20', '3/6/20', '3/7/20', '3/8/20', '3/9/20', '3/10/20', '3/11/20', '3/12/20', '3/13/20', '3/14/20', '3/15/20', '3/16/20', '3/17/20', '3/18/20', '3/19/20', '3/20/20', '3/21/20', '3/22/20', '3/23/20', '3/24/20', '3/25/20', '3/26/20', '3/27/20', '3/28/20', '3/29/20', '3/30/20', '3/31/20', '4/1/20', '4/2/20', '4/3/20', '4/4/20', '4/5/20', '4/6/20', '4/7/20', '4/8/20', '4/9/20', '4/10/20', '4/11/20', '4/12/20', '4/13/20', '4/14/20', '4/15/20', '4/16/20', '4/17/20', '4/18/20', '4/19/20', '4/20/20', '4/21/20', '4/22/20', '4/23/20', '4/24/20', '4/25/20', '4/26/20', '4/27/20', '4/28/20', '4/29/20', '4/30/20', '5/1/20', '5/2/20', '5/3/20', '5/4/20', '5/5/20', '5/6/20', '5/7/20', '5/8/20', '5/9/20', '5/10/20', '5/11/20', '5/12/20', '5/13/20', '5/14/20', 'ISO 3166-1 Alpha 3-Codes', 'Region Code', 'Region Name', 'Sub-region Code', 'Sub-region Name', 'Intermediate Region Code', 'Intermediate Region Name']"
     ]
    }
   ],
   "source": [
    "dfm.columns"
   ]
  },
  {
   "cell_type": "code",
   "execution_count": 62,
   "metadata": {},
   "outputs": [
    {
     "data": {
      "application/vnd.jupyter.widget-view+json": {
       "model_id": "465bb320d0fa4cd694ca138b983571e1",
       "version_major": 2,
       "version_minor": 0
      },
      "text/plain": [
       "VBox()"
      ]
     },
     "metadata": {},
     "output_type": "display_data"
    },
    {
     "data": {
      "application/vnd.jupyter.widget-view+json": {
       "model_id": "",
       "version_major": 2,
       "version_minor": 0
      },
      "text/plain": [
       "FloatProgress(value=0.0, bar_style='info', description='Progress:', layout=Layout(height='25px', width='50%'),…"
      ]
     },
     "metadata": {},
     "output_type": "display_data"
    },
    {
     "name": "stdout",
     "output_type": "stream",
     "text": [
      "+-----------------+------+------+------+------+------+------+------+------+------+-------+-------+-------+-------+-------+\n",
      "|      Region Name|5/1/20|5/2/20|5/3/20|5/4/20|5/5/20|5/6/20|5/7/20|5/8/20|5/9/20|5/10/20|5/11/20|5/12/20|5/13/20|5/14/20|\n",
      "+-----------------+------+------+------+------+------+------+------+------+------+-------+-------+-------+-------+-------+\n",
      "|#region+main+name|  null|  null|  null|  null|  null|  null|  null|  null|  null|   null|   null|   null|   null|   null|\n",
      "|             Asia|  2335|  2469|  2704|  2894|  3224|  3392|  3563|  3778|  4033|   4402|   4687|   4963|   5226|   5639|\n",
      "|           Europe|   782|   789|   795|   803|   820|   832|   842|   850|   856|    868|    872|    876|    880|    898|\n",
      "|           Africa|  4154|  4295|  4474|  4648|  4838|  4997|  5182|  5369|  5558|   5723|   5891|   6067|   6253|   6442|\n",
      "|           Europe|   745|   747|   748|   750|   751|   751|   752|   752|   754|    755|    755|    758|    760|    761|\n",
      "|           Africa|    30|    35|    35|    35|    36|    36|    36|    43|    43|     45|     45|     45|     45|     48|\n",
      "|         Americas|    25|    25|    25|    25|    25|    25|    25|    25|    25|     25|     25|     25|     25|     25|\n",
      "|         Americas|  4532|  4681|  4783|  4887|  5020|  5208|  5371|  5611|  5776|   6034|   6278|   6563|   6879|   7134|\n",
      "|             Asia|  2148|  2273|  2386|  2507|  2619|  2782|  2884|  3029|  3175|   3313|   3392|   3538|   3718|   3860|\n",
      "|          Oceania|   106|   106|   106|   107|   107|   107|   107|   107|   107|    107|    107|    107|    107|    107|\n",
      "|          Oceania|  3030|  3035|  3033|  3035|  3042|  3044|  3047|  3051|  3053|   3053|   3053|   3059|   3063|   3071|\n",
      "|          Oceania|    27|    29|    29|    29|    29|    29|    29|    29|    29|     29|     29|     29|     29|     29|\n",
      "|          Oceania|  1034|  1035|  1038|  1043|  1043|  1045|  1045|  1045|  1045|   1045|   1051|   1052|   1051|   1054|\n",
      "|          Oceania|   438|   438|   438|   438|   438|   438|   439|   439|   439|    439|    439|    439|    439|    439|\n",
      "|          Oceania|   221|   221|   221|   221|   225|   226|   227|   227|   227|    227|    227|    227|    227|    227|\n",
      "|          Oceania|  1371|  1384|  1406|  1423|  1440|  1454|  1467|  1468|  1487|   1496|   1511|   1514|   1521|   1540|\n",
      "|          Oceania|   551|   551|   551|   551|   551|   551|   552|   552|   552|    552|    553|    553|    552|    552|\n",
      "|           Europe| 15531| 15558| 15597| 15621| 15650| 15684| 15752| 15774| 15833|  15871|  15882|  15961|  15997|  16058|\n",
      "|             Asia|  1854|  1894|  1932|  1984|  2060|  2127|  2204|  2279|  2422|   2519|   2589|   2693|   2758|   2879|\n",
      "|         Americas|    81|    83|    83|    83|    89|    92|    92|    92|    92|     92|     93|     93|     94|     96|\n",
      "+-----------------+------+------+------+------+------+------+------+------+------+-------+-------+-------+-------+-------+\n",
      "only showing top 20 rows"
     ]
    }
   ],
   "source": [
    "#Casos por día en el mes de mayo\n",
    "dfm.select('Region Name','5/1/20', '5/2/20', '5/3/20', '5/4/20', '5/5/20', '5/6/20', '5/7/20', '5/8/20', '5/9/20', '5/10/20', '5/11/20', '5/12/20', '5/13/20', '5/14/20').show()"
   ]
  },
  {
   "cell_type": "code",
   "execution_count": 29,
   "metadata": {},
   "outputs": [
    {
     "data": {
      "application/vnd.jupyter.widget-view+json": {
       "model_id": "1313404bc550475eb1ba538bc6e450cb",
       "version_major": 2,
       "version_minor": 0
      },
      "text/plain": [
       "VBox()"
      ]
     },
     "metadata": {},
     "output_type": "display_data"
    },
    {
     "data": {
      "application/vnd.jupyter.widget-view+json": {
       "model_id": "",
       "version_major": 2,
       "version_minor": 0
      },
      "text/plain": [
       "FloatProgress(value=0.0, bar_style='info', description='Progress:', layout=Layout(height='25px', width='50%'),…"
      ]
     },
     "metadata": {},
     "output_type": "display_data"
    },
    {
     "name": "stdout",
     "output_type": "stream",
     "text": [
      "+-----------------+------+------+------+------+------+------+------+------+------+-------+-------+-------+-------+-------+-------+-------+-------+-------+-------+-------+-------+-------+-------+-------+-------+-------+-------+-------+-------+-------+\n",
      "|      Region Name|4/1/20|4/2/20|4/3/20|4/4/20|4/5/20|4/6/20|4/7/20|4/8/20|4/9/20|4/10/20|4/11/20|4/12/20|4/13/20|4/14/20|4/15/20|4/16/20|4/17/20|4/18/20|4/19/20|4/20/20|4/21/20|4/22/20|4/23/20|4/24/20|4/25/20|4/26/20|4/27/20|4/28/20|4/29/20|4/30/20|\n",
      "+-----------------+------+------+------+------+------+------+------+------+------+-------+-------+-------+-------+-------+-------+-------+-------+-------+-------+-------+-------+-------+-------+-------+-------+-------+-------+-------+-------+-------+\n",
      "|#region+main+name|  null|  null|  null|  null|  null|  null|  null|  null|  null|   null|   null|   null|   null|   null|   null|   null|   null|   null|   null|   null|   null|   null|   null|   null|   null|   null|   null|   null|   null|   null|\n",
      "|             Asia|   237|   273|   281|   299|   349|   367|   423|   444|   484|    521|    555|    607|    665|    714|    784|    840|    906|    933|    996|   1026|   1092|   1176|   1279|   1351|   1463|   1531|   1703|   1828|   1939|   2171|\n",
      "|           Europe|   259|   277|   304|   333|   361|   377|   383|   400|   409|    416|    433|    446|    467|    475|    494|    518|    539|    548|    562|    584|    609|    634|    663|    678|    712|    726|    736|    750|    766|    773|\n",
      "|           Africa|   847|   986|  1171|  1251|  1320|  1423|  1468|  1572|  1666|   1761|   1825|   1914|   1983|   2070|   2160|   2268|   2418|   2534|   2629|   2718|   2811|   2910|   3007|   3127|   3256|   3382|   3517|   3649|   3848|   4006|\n",
      "|           Europe|   390|   428|   439|   466|   501|   525|   545|   564|   583|    601|    601|    638|    646|    659|    673|    673|    696|    704|    713|    717|    717|    723|    723|    731|    738|    738|    743|    743|    743|    745|\n",
      "|           Africa|     8|     8|     8|    10|    14|    16|    17|    19|    19|     19|     19|     19|     19|     19|     19|     19|     19|     24|     24|     24|     24|     25|     25|     25|     25|     26|     27|     27|     27|     27|\n",
      "|         Americas|     7|     9|    15|    15|    15|    15|    19|    19|    19|     19|     21|     21|     23|     23|     23|     23|     23|     23|     23|     23|     23|     24|     24|     24|     24|     24|     24|     24|     24|     24|\n",
      "|         Americas|  1054|  1133|  1265|  1451|  1451|  1554|  1628|  1715|  1795|   1975|   1975|   2142|   2208|   2277|   2443|   2571|   2669|   2758|   2839|   2941|   3031|   3144|   3435|   3607|   3780|   3892|   4003|   4127|   4285|   4428|\n",
      "|             Asia|   571|   663|   736|   770|   822|   833|   853|   881|   921|    937|    967|   1013|   1039|   1067|   1111|   1159|   1201|   1248|   1291|   1339|   1401|   1473|   1523|   1596|   1677|   1746|   1808|   1867|   1932|   2066|\n",
      "|          Oceania|    84|    87|    91|    93|    96|    96|    96|    99|   100|    103|    103|    103|    102|    103|    103|    103|    103|    103|    103|    104|    104|    104|    104|    105|    106|    106|    106|    106|    106|    106|\n",
      "|          Oceania|  2182|  2298|  2389|  2493|  2580|  2637|  2686|  2734|  2773|   2822|   2857|   2857|   2863|   2870|   2886|   2897|   2926|   2936|   2957|   2963|   2969|   2971|   2976|   2982|   2994|   3002|   3004|   3016|   3016|   3025|\n",
      "|          Oceania|    19|    21|    22|    26|    27|    28|    28|    28|    28|     28|     28|     28|     28|     28|     28|     28|     28|     28|     28|     28|     28|     28|     28|     28|     28|     28|     28|     28|     28|     28|\n",
      "|          Oceania|   781|   835|   873|   900|   907|   921|   934|   943|   953|    965|    974|    983|    987|    998|    999|   1001|   1007|   1015|   1019|   1019|   1024|   1024|   1026|   1026|   1026|   1030|   1033|   1034|   1033|   1033|\n",
      "|          Oceania|   367|   367|   396|   407|   407|   411|   411|   415|   420|    428|    429|    429|    429|    433|    433|    433|    435|    435|    435|    435|    437|    438|    438|    438|    438|    438|    438|    438|    438|    438|\n",
      "|          Oceania|    69|    72|    74|    80|    82|    86|    89|    98|   111|    122|    133|    133|    144|    165|    165|    169|    180|    188|    195|    200|    201|    205|    207|    207|    207|    212|    214|    218|    219|    221|\n",
      "|          Oceania|   968|  1036|  1085|  1115|  1135|  1158|  1191|  1212|  1228|   1241|   1265|   1268|   1281|   1291|   1299|   1299|   1302|   1319|   1328|   1329|   1336|   1336|   1337|   1343|   1346|   1349|   1349|   1354|   1361|   1364|\n",
      "|          Oceania|   392|   400|   400|   436|   453|   460|   460|   481|   495|    506|    514|    514|    517|    527|    527|    532|    541|    544|    545|    545|    546|    546|    546|    548|    549|    549|    549|    550|    551|    551|\n",
      "|           Europe| 10711| 11129| 11524| 11781| 12051| 12297| 12639| 12942| 13244|  13555|  13806|  13945|  14041|  14226|  14336|  14476|  14595|  14671|  14749|  14795|  14873|  14925|  15002|  15071|  15148|  15225|  15274|  15357|  15402|  15452|\n",
      "|             Asia|   359|   400|   443|   521|   584|   641|   717|   822|   926|    991|   1058|   1098|   1148|   1197|   1253|   1283|   1340|   1373|   1398|   1436|   1480|   1518|   1548|   1592|   1617|   1645|   1678|   1717|   1766|   1804|\n",
      "|         Americas|    21|    24|    24|    28|    28|    29|    33|    40|    41|     42|     46|     46|     47|     49|     49|     53|     54|     55|     55|     60|     65|     65|     72|     73|     78|     80|     80|     80|     80|     81|\n",
      "+-----------------+------+------+------+------+------+------+------+------+------+-------+-------+-------+-------+-------+-------+-------+-------+-------+-------+-------+-------+-------+-------+-------+-------+-------+-------+-------+-------+-------+\n",
      "only showing top 20 rows"
     ]
    }
   ],
   "source": [
    "dfm.select('Region Name', '4/1/20', '4/2/20', '4/3/20', '4/4/20', '4/5/20', '4/6/20', '4/7/20', '4/8/20', '4/9/20', '4/10/20', '4/11/20', '4/12/20', '4/13/20', '4/14/20', '4/15/20', '4/16/20', '4/17/20', '4/18/20', '4/19/20', '4/20/20', '4/21/20', '4/22/20', '4/23/20', '4/24/20', '4/25/20', '4/26/20', '4/27/20', '4/28/20', '4/29/20', '4/30/20').show()"
   ]
  },
  {
   "cell_type": "code",
   "execution_count": 31,
   "metadata": {},
   "outputs": [
    {
     "data": {
      "application/vnd.jupyter.widget-view+json": {
       "model_id": "dac365739d0648bd8f426698660cfd44",
       "version_major": 2,
       "version_minor": 0
      },
      "text/plain": [
       "VBox()"
      ]
     },
     "metadata": {},
     "output_type": "display_data"
    },
    {
     "data": {
      "application/vnd.jupyter.widget-view+json": {
       "model_id": "",
       "version_major": 2,
       "version_minor": 0
      },
      "text/plain": [
       "FloatProgress(value=0.0, bar_style='info', description='Progress:', layout=Layout(height='25px', width='50%'),…"
      ]
     },
     "metadata": {},
     "output_type": "display_data"
    },
    {
     "name": "stdout",
     "output_type": "stream",
     "text": [
      "+-----------------+------+------+------+------+------+------+------+------+------+-------+-------+-------+-------+-------+-------+-------+-------+-------+-------+-------+-------+-------+-------+-------+-------+-------+-------+-------+-------+-------+-------+\n",
      "|      Region Name|3/1/20|3/2/20|3/3/20|3/4/20|3/5/20|3/6/20|3/7/20|3/8/20|3/9/20|3/10/20|3/11/20|3/12/20|3/13/20|3/14/20|3/15/20|3/16/20|3/17/20|3/18/20|3/19/20|3/20/20|3/21/20|3/22/20|3/23/20|3/24/20|3/25/20|3/26/20|3/27/20|3/28/20|3/29/20|3/30/20|3/31/20|\n",
      "+-----------------+------+------+------+------+------+------+------+------+------+-------+-------+-------+-------+-------+-------+-------+-------+-------+-------+-------+-------+-------+-------+-------+-------+-------+-------+-------+-------+-------+-------+\n",
      "|#region+main+name|  null|  null|  null|  null|  null|  null|  null|  null|  null|   null|   null|   null|   null|   null|   null|   null|   null|   null|   null|   null|   null|   null|   null|   null|   null|   null|   null|   null|   null|   null|   null|\n",
      "|             Asia|     1|     1|     1|     1|     1|     1|     1|     4|     4|      5|      7|      7|      7|     11|     16|     21|     22|     22|     22|     24|     24|     40|     40|     74|     84|     94|    110|    110|    120|    170|    174|\n",
      "|           Europe|     0|     0|     0|     0|     0|     0|     0|     0|     2|     10|     12|     23|     33|     38|     42|     51|     55|     59|     64|     70|     76|     89|    104|    123|    146|    174|    186|    197|    212|    223|    243|\n",
      "|           Africa|     1|     3|     5|    12|    12|    17|    17|    19|    20|     20|     20|     24|     26|     37|     48|     54|     60|     74|     87|     90|    139|    201|    230|    264|    302|    367|    409|    454|    511|    584|    716|\n",
      "|           Europe|     0|     1|     1|     1|     1|     1|     1|     1|     1|      1|      1|      1|      1|      1|      1|      2|     39|     39|     53|     75|     88|    113|    133|    164|    188|    224|    267|    308|    334|    370|    376|\n",
      "|           Africa|     0|     0|     0|     0|     0|     0|     0|     0|     0|      0|      0|      0|      0|      0|      0|      0|      0|      0|      0|      1|      2|      2|      3|      3|      3|      4|      4|      5|      7|      7|      7|\n",
      "|         Americas|     0|     0|     0|     0|     0|     0|     0|     0|     0|      0|      0|      0|      1|      1|      1|      1|      1|      1|      1|      1|      1|      1|      3|      3|      3|      7|      7|      7|      7|      7|      7|\n",
      "|         Americas|     0|     0|     1|     1|     1|     2|     8|    12|    12|     17|     19|     19|     31|     34|     45|     56|     68|     79|     97|    128|    158|    266|    301|    387|    387|    502|    589|    690|    745|    820|   1054|\n",
      "|             Asia|     1|     1|     1|     1|     1|     1|     1|     1|     1|      1|      1|      4|      8|     18|     26|     52|     78|     84|    115|    136|    160|    194|    235|    249|    265|    290|    329|    407|    424|    482|    532|\n",
      "|          Oceania|     0|     0|     0|     0|     0|     0|     0|     0|     0|      0|      0|      0|      1|      1|      1|      2|      2|      3|      4|      6|      9|     19|     32|     39|     39|     53|     62|     71|     77|     78|     80|\n",
      "|          Oceania|     6|     6|    13|    22|    22|    26|    28|    38|    48|     55|     65|     65|     92|    112|    134|    171|    210|    267|    307|    353|    436|    669|    669|    818|   1029|   1219|   1405|   1617|   1791|   2032|   2032|\n",
      "|          Oceania|     0|     0|     0|     1|     1|     0|     0|     0|     0|      1|      1|      1|      1|      1|      1|      1|      1|      1|      1|      3|      3|      5|      5|      6|      6|     12|     12|     15|     15|     15|     17|\n",
      "|          Oceania|     9|     9|    11|    11|    13|    13|    13|    15|    15|     18|     20|     20|     35|     46|     61|     68|     78|     94|    144|    184|    221|    259|    319|    397|    443|    493|    555|    625|    656|    689|    743|\n",
      "|          Oceania|     3|     3|     3|     5|     5|     7|     7|     7|     7|      7|      9|      9|     16|     19|     20|     29|     29|     37|     42|     50|     67|    100|    134|    170|    170|    235|    257|    287|    299|    305|    337|\n",
      "|          Oceania|     0|     1|     1|     1|     1|     1|     1|     2|     2|      2|      3|      3|      5|      5|      6|      7|      7|     10|     10|     10|     16|     22|     28|     28|     36|     47|     47|     62|     66|     66|     69|\n",
      "|          Oceania|     7|     9|     9|    10|    10|    10|    11|    11|    15|     18|     21|     21|     36|     49|     57|     71|     94|    121|    121|    121|    229|    355|    355|    411|    466|    520|    574|    685|    769|    821|    917|\n",
      "|          Oceania|     2|     2|     2|     2|     3|     3|     3|     3|     4|      6|      9|      9|     14|     17|     17|     28|     31|     35|     52|     64|     90|    120|    140|    175|    175|    231|    231|    278|    311|    355|    364|\n",
      "|           Europe|    14|    18|    21|    29|    41|    55|    79|   104|   131|    182|    246|    302|    504|    655|    860|   1018|   1332|   1646|   2013|   2388|   2814|   3582|   4474|   5283|   5588|   6909|   7657|   8271|   8788|   9618|  10180|\n",
      "|             Asia|     3|     3|     3|     3|     6|     6|     9|     9|     9|     11|     11|     11|     15|     15|     23|     28|     28|     28|     44|     44|     53|     65|     72|     87|     93|    122|    165|    182|    209|    273|    298|\n",
      "|         Americas|     0|     0|     0|     0|     0|     0|     0|     0|     0|      0|      0|      0|      0|      0|      0|      1|      1|      1|      3|      3|      4|      4|      4|      5|      5|      9|     10|     10|     11|     14|     14|\n",
      "+-----------------+------+------+------+------+------+------+------+------+------+-------+-------+-------+-------+-------+-------+-------+-------+-------+-------+-------+-------+-------+-------+-------+-------+-------+-------+-------+-------+-------+-------+\n",
      "only showing top 20 rows"
     ]
    }
   ],
   "source": [
    "#Casos corfimados por día en el mes de Marzo#\n",
    "dfm.select('Region Name','3/1/20', '3/2/20', '3/3/20', '3/4/20', '3/5/20', '3/6/20', '3/7/20', '3/8/20', '3/9/20', '3/10/20', '3/11/20', '3/12/20', '3/13/20', '3/14/20', '3/15/20', '3/16/20', '3/17/20', '3/18/20', '3/19/20', '3/20/20', '3/21/20', '3/22/20', '3/23/20', '3/24/20', '3/25/20', '3/26/20', '3/27/20', '3/28/20', '3/29/20', '3/30/20', '3/31/20').show()"
   ]
  },
  {
   "cell_type": "code",
   "execution_count": 63,
   "metadata": {},
   "outputs": [
    {
     "data": {
      "application/vnd.jupyter.widget-view+json": {
       "model_id": "3773160eab214b86bfe8ca6dd03f81ca",
       "version_major": 2,
       "version_minor": 0
      },
      "text/plain": [
       "VBox()"
      ]
     },
     "metadata": {},
     "output_type": "display_data"
    },
    {
     "data": {
      "application/vnd.jupyter.widget-view+json": {
       "model_id": "",
       "version_major": 2,
       "version_minor": 0
      },
      "text/plain": [
       "FloatProgress(value=0.0, bar_style='info', description='Progress:', layout=Layout(height='25px', width='50%'),…"
      ]
     },
     "metadata": {},
     "output_type": "display_data"
    },
    {
     "name": "stdout",
     "output_type": "stream",
     "text": [
      "+-------+--------------+--------------+------------------+------------------+------------------+------------------+------------------+-----------------+-----------------+------------------+------------------+-----------------+------------------+------------------+------------------+------------------+-----------------+------------------+------------------+------------------+------------------+------------------+------------------+-----------------+------------------+------------------+------------------+------------------+------------------+-----------------+------------------+-----------------+------------------+------------------+------------------+------------------+------------------+------------------+-----------------+------------------+------------------+------------------+-----------------+-----------------+------------------+------------------+------------------+-----------------+-----------------+------------------+-----------------+------------------+-----------------+------------------+-----------------+------------------+-----------------+-----------------+-----------------+-----------------+-----------------+-----------------+------------------+------------------+-----------------+------------------+-----------------+------------------+-----------------+------------------+------------------+------------------+------------------+-----------------+------------------+-----------------+-----------------+------------------+------------------+------------------+------------------+------------------+-----------------+-----------------+-----------------+-----------------+-----------------+-----------------+------------------+-----------------+-----------------+-----------------+-----------------+-----------------+------------------+-----------------+------------------+------------------+------------------+------------------+------------------+------------------+------------------+------------------+------------------+------------------+-----------------+------------------+------------------+------------------+------------------+------------------+------------------+------------------+------------------+------------------+------------------+------------------+------------------------+-----------------+-----------------+------------------+----------------+------------------------+------------------------+\n",
      "|summary|Province/State|Country/Region|               Lat|              Long|           1/22/20|           1/23/20|           1/24/20|          1/25/20|          1/26/20|           1/27/20|           1/28/20|          1/29/20|           1/30/20|           1/31/20|            2/1/20|            2/2/20|           2/3/20|            2/4/20|            2/5/20|            2/6/20|            2/7/20|            2/8/20|            2/9/20|          2/10/20|           2/11/20|           2/12/20|           2/13/20|           2/14/20|           2/15/20|          2/16/20|           2/17/20|          2/18/20|           2/19/20|           2/20/20|           2/21/20|           2/22/20|           2/23/20|           2/24/20|          2/25/20|           2/26/20|           2/27/20|           2/28/20|          2/29/20|           3/1/20|            3/2/20|            3/3/20|            3/4/20|           3/5/20|           3/6/20|            3/7/20|           3/8/20|            3/9/20|          3/10/20|           3/11/20|          3/12/20|           3/13/20|          3/14/20|          3/15/20|          3/16/20|          3/17/20|          3/18/20|          3/19/20|           3/20/20|           3/21/20|          3/22/20|           3/23/20|          3/24/20|           3/25/20|          3/26/20|           3/27/20|           3/28/20|           3/29/20|           3/30/20|          3/31/20|            4/1/20|           4/2/20|           4/3/20|            4/4/20|            4/5/20|            4/6/20|            4/7/20|            4/8/20|           4/9/20|          4/10/20|          4/11/20|          4/12/20|          4/13/20|          4/14/20|           4/15/20|          4/16/20|          4/17/20|          4/18/20|          4/19/20|          4/20/20|           4/21/20|          4/22/20|           4/23/20|           4/24/20|           4/25/20|           4/26/20|           4/27/20|           4/28/20|           4/29/20|           4/30/20|            5/1/20|            5/2/20|           5/3/20|            5/4/20|            5/5/20|            5/6/20|            5/7/20|            5/8/20|            5/9/20|           5/10/20|           5/11/20|           5/12/20|           5/13/20|           5/14/20|ISO 3166-1 Alpha 3-Codes|      Region Code|      Region Name|   Sub-region Code| Sub-region Name|Intermediate Region Code|Intermediate Region Name|\n",
      "+-------+--------------+--------------+------------------+------------------+------------------+------------------+------------------+-----------------+-----------------+------------------+------------------+-----------------+------------------+------------------+------------------+------------------+-----------------+------------------+------------------+------------------+------------------+------------------+------------------+-----------------+------------------+------------------+------------------+------------------+------------------+-----------------+------------------+-----------------+------------------+------------------+------------------+------------------+------------------+------------------+-----------------+------------------+------------------+------------------+-----------------+-----------------+------------------+------------------+------------------+-----------------+-----------------+------------------+-----------------+------------------+-----------------+------------------+-----------------+------------------+-----------------+-----------------+-----------------+-----------------+-----------------+-----------------+------------------+------------------+-----------------+------------------+-----------------+------------------+-----------------+------------------+------------------+------------------+------------------+-----------------+------------------+-----------------+-----------------+------------------+------------------+------------------+------------------+------------------+-----------------+-----------------+-----------------+-----------------+-----------------+-----------------+------------------+-----------------+-----------------+-----------------+-----------------+-----------------+------------------+-----------------+------------------+------------------+------------------+------------------+------------------+------------------+------------------+------------------+------------------+------------------+-----------------+------------------+------------------+------------------+------------------+------------------+------------------+------------------+------------------+------------------+------------------+------------------+------------------------+-----------------+-----------------+------------------+----------------+------------------------+------------------------+\n",
      "|  count|            82|           267|               267|               267|               266|               266|               266|              266|              266|               266|               266|              266|               266|               266|               266|               266|              266|               266|               266|               266|               266|               266|               266|              266|               266|               266|               266|               266|               266|              266|               266|              266|               266|               266|               266|               266|               266|               266|              266|               266|               266|               266|              266|              266|               266|               266|               266|              266|              266|               266|              266|               266|              266|               266|              266|               266|              266|              266|              266|              266|              266|              266|               266|               266|              266|               266|              266|               266|              266|               266|               266|               266|               266|              266|               266|              266|              266|               266|               266|               266|               266|               266|              266|              266|              266|              266|              266|              266|               266|              266|              266|              266|              266|              266|               266|              266|               266|               266|               266|               266|               266|               266|               266|               266|               266|               266|              266|               266|               266|               266|               266|               266|               266|               266|               266|               266|               266|               266|                     262|              263|              263|               263|             263|                      99|                      99|\n",
      "|   mean|          null|          null|21.148043469924808|22.538640082706763|2.0864661654135337|2.4586466165413534| 3.537593984962406|5.390977443609023|7.962406015037594|11.003759398496241|20.969924812030076|23.18045112781955|30.954887218045112| 37.31954887218045|45.255639097744364|63.109022556390975| 74.7406015037594| 89.81954887218045|103.89097744360902|115.76691729323308|129.28947368421052|139.54887218045113|150.93984962406014|160.7593984962406|168.42857142857142|170.00375939849624|226.94736842105263|251.44736842105263| 259.5112781954887|267.7593984962406|  275.406015037594|282.4661654135338|284.35714285714283| 286.4548872180451|288.79323308270676|295.38345864661653|296.83458646616543| 299.1015037593985|302.2781954887218|305.96992481203006| 311.0751879699248| 316.2105263157895|323.3496240601504|332.2142857142857|339.49624060150376|349.02255639097746|  357.593984962406|367.9924812030075|382.7105263157895|397.92105263157896|412.8609022556391|427.03007518796994|445.9398496240602| 473.2142857142857|482.5263157894737| 545.9511278195489|586.9097744360902|629.5864661654135| 682.796992481203|741.1052631578947|807.8007518796992|912.1466165413534|1023.5451127819549|1145.0375939849623|1266.984962406015|1422.1127819548872|1571.827067669173|1758.4624060150377|1991.436090225564|2231.0488721804513|  2484.40977443609|2707.8571428571427|2941.7293233082705| 3224.09022556391|3506.2030075187968|3810.063909774436|4119.898496240601| 4421.274436090225|4698.2819548872185| 4967.804511278196| 5249.766917293233|5564.7819548872185|5885.545112781955|6232.894736842105|6526.436090225564|6899.041353383459|7162.255639097744| 7426.93984962406|7727.1578947368425|8089.443609022556|8419.676691729323|8711.439849624061|9025.515037593985|9292.206766917294|  9582.87969924812|9866.947368421053|10181.966165413534|10510.266917293233|10831.353383458647|11109.146616541353|11367.375939849624|11643.718045112782|11925.890977443609|12244.022556390977|12577.285714285714|12885.654135338345|13183.19172932331|13470.131578947368|13769.515037593985|14120.560150375939|14457.586466165414|14804.751879699248|15127.853383458647|15419.921052631578|15704.894736842105|16021.605263157895|16342.172932330826|16699.860902255637|                    null|76.39312977099236|             null|159.94656488549617|            null|      16.602040816326532|                    null|\n",
      "| stddev|          null|          null|24.909989877460006| 70.46625583209203|27.279200126476585|27.377862225678502|34.083035345171226|47.43493411917064|66.28917849191255| 89.31375681061068| 219.1877437645593|220.5249768795368|303.89789409048035|360.29728730458294|443.36681272785637| 689.0355902803593|832.9553139874997|1026.5841129198425| 1209.757050049596|1359.9302972549626| 1534.124061685851|  1665.83468099177|1820.9085406327827|1949.404600540752|2049.8116978799526| 2050.151419162801|2958.0379711438613| 3337.714498661914|3450.6663291264013|3569.106026540109|3679.8121435595344|3783.535150451222|3804.9443538793835|3830.1089811376264|3843.6597907820606|3930.7413016766277|  3930.77898982819|3943.2786828716758|3973.894621868005| 3998.651035630947|4024.2759229157473|4044.7493950452586|4072.596681495963|4109.805099719684|4124.6676035298215| 4137.027653190499|4148.4470175200795|4162.525002014535|4179.734158157656| 4197.057567383664|4213.463912607176| 4232.886837635061|4248.924055164664|4282.1312374844865|4292.382224762356|4385.5713934057785|4467.196252868229|  4562.3339312289|4675.849522667772|4810.974046063513|4992.147776311087|5283.414374615547|5637.7846324693965| 6065.440506836876|6501.044485584342| 7106.926042665101|7720.035440832991|  8539.76242480821|9648.905345561136|10806.500628921722|12080.390223038543|13275.336543446983|14579.220180314185|16185.95254706931|17788.790272595994|19632.78935957419|21577.82902156743|23588.790869135213| 25308.18352306587|27083.143557113617|28948.625921152565|30928.694936344866|33023.29168443564|  35132.721161551|37000.88455257871|39037.86346470372|40614.14715842376|42284.32383279138| 44090.23750152649|46181.17476568041|48201.13538873333|50133.97401324294|51886.96956554698|53463.79265089098|55192.061837070214|56941.07264967295|58758.129833279345| 60812.01535738311| 62832.45251369684| 64533.42141280418| 65963.45114340747| 67507.19543697164| 69188.50433706015| 71029.76098551837| 73132.89948740607| 74957.81992128388| 76573.2718936753| 78015.67588212568| 79571.89025852577| 81256.45761488135| 83068.94254957032| 84847.76712459067| 86525.42482027675| 87856.56594020202| 89155.18418580029| 90614.37846335537| 92061.91466255748| 93888.72420316278|                    null|67.54684787316097|             null| 139.8769745704228|            null|       8.269606250886955|                    null|\n",
      "|    min|    #adm1+name| #country+name|          #geo+lat|          #geo+lon|                 0|                 0|                 0|                0|                0|                 0|                 0|                0|                 0|                 0|                 0|                 0|                0|                 0|                 0|                 0|                 0|                 0|                 0|                0|                 0|                 0|                 0|                 0|                 0|                0|                 0|                0|                 0|                 0|                 0|                 0|                 0|                 0|                0|                 0|                 0|                 0|                0|                0|                 0|                 0|                 0|                0|                0|                 0|                0|                 0|                0|                 0|                0|                 0|                0|                0|                0|                0|                0|                0|                 0|                 0|                0|                 0|                0|                 0|                0|                 0|                 0|                 0|                 0|                0|                 0|                0|                0|                 0|                 0|                 0|                 0|                 0|                0|                0|                0|                0|                0|                0|                 0|                0|                0|                0|                0|                0|                 0|                0|                 0|                 0|                 0|                 0|                 0|                 0|                 0|                 0|                 0|                 0|                0|                 0|                 0|                 0|                 0|                 0|                 0|                 0|                 0|                 0|                 1|                 1|           #country+code|#region+main+code|#region+main+name|  #region+sub+code|#region+sub+name|    #region+intermedi...|    #region+intermedi...|\n",
      "|    max|      Zhejiang|      Zimbabwe|            9.9456|           95.9956|               444|               444|               549|              761|             1058|              1423|              3554|             3554|              4903|              5806|              7153|             11177|            13522|             16678|             19665|             22112|             24953|             27100|             29631|            31728|             33366|             33366|             48206|             54406|             56249|            58182|             59989|            61682|             62031|             62442|             62662|             64084|             64084|             64287|            64786|             65187|             65596|             65914|            66337|            66907|             67103|             67217|             67332|            67466|            67592|             67666|            67707|             67743|            67760|             67773|            67781|             67786|            67790|            67794|            67798|            67799|            67800|            67800|             67800|             67800|            67800|             67800|            69176|             74386|            83836|            101657|            121465|            140909|            161831|           188172|            213242|           243622|           275367|            308650|            336802|            366317|            397121|            428654|           462780|           496535|           526396|           555313|           580619|           607670|            636350|           667592|           699706|           732197|           758809|           784326|            811865|           840351|            869170|            905358|            938154|            965785|            988197|           1012582|           1039909|           1069424|           1103461|           1132539|          1158040|           1180375|           1204351|           1229331|           1257023|           1283929|           1309550|           1329260|           1347881|           1369376|           1390406|           1417774|                     ZWE|                9|          Oceania|                61|  Western Europe|                       5|          Western Africa|\n",
      "+-------+--------------+--------------+------------------+------------------+------------------+------------------+------------------+-----------------+-----------------+------------------+------------------+-----------------+------------------+------------------+------------------+------------------+-----------------+------------------+------------------+------------------+------------------+------------------+------------------+-----------------+------------------+------------------+------------------+------------------+------------------+-----------------+------------------+-----------------+------------------+------------------+------------------+------------------+------------------+------------------+-----------------+------------------+------------------+------------------+-----------------+-----------------+------------------+------------------+------------------+-----------------+-----------------+------------------+-----------------+------------------+-----------------+------------------+-----------------+------------------+-----------------+-----------------+-----------------+-----------------+-----------------+-----------------+------------------+------------------+-----------------+------------------+-----------------+------------------+-----------------+------------------+------------------+------------------+------------------+-----------------+------------------+-----------------+-----------------+------------------+------------------+------------------+------------------+------------------+-----------------+-----------------+-----------------+-----------------+-----------------+-----------------+------------------+-----------------+-----------------+-----------------+-----------------+-----------------+------------------+-----------------+------------------+------------------+------------------+------------------+------------------+------------------+------------------+------------------+------------------+------------------+-----------------+------------------+------------------+------------------+------------------+------------------+------------------+------------------+------------------+------------------+------------------+------------------+------------------------+-----------------+-----------------+------------------+----------------+------------------------+------------------------+"
     ]
    }
   ],
   "source": [
    "dfm.describe().show()"
   ]
  },
  {
   "cell_type": "code",
   "execution_count": 43,
   "metadata": {},
   "outputs": [
    {
     "data": {
      "application/vnd.jupyter.widget-view+json": {
       "model_id": "53b3024b0b4d4b7a8b25fa5f4d76a02a",
       "version_major": 2,
       "version_minor": 0
      },
      "text/plain": [
       "VBox()"
      ]
     },
     "metadata": {},
     "output_type": "display_data"
    },
    {
     "data": {
      "application/vnd.jupyter.widget-view+json": {
       "model_id": "",
       "version_major": 2,
       "version_minor": 0
      },
      "text/plain": [
       "FloatProgress(value=0.0, bar_style='info', description='Progress:', layout=Layout(height='25px', width='50%'),…"
      ]
     },
     "metadata": {},
     "output_type": "display_data"
    }
   ],
   "source": [
    "dfm_per_days = dfm.drop('1/22/20', '1/23/20', '1/24/20', '1/25/20', '1/26/20', '1/27/20', '1/28/20', '1/29/20', '1/30/20', '1/31/20', '2/1/20', '2/2/20', '2/3/20', '2/4/20', '2/5/20', '2/6/20', '2/7/20', '2/8/20', '2/9/20', '2/10/20', '2/11/20', '2/12/20', '2/13/20', '2/14/20', '2/15/20', '2/16/20', '2/17/20', '2/18/20', '2/19/20', '2/20/20', '2/21/20', '2/22/20', '2/23/20', '2/24/20', '2/25/20', '2/26/20', '2/27/20', '2/28/20', '2/29/20', '3/1/20', '3/2/20', '3/3/20', '3/4/20', '3/5/20', '3/6/20', '3/7/20', '3/8/20', '3/9/20', '3/10/20', '3/11/20', '3/12/20', '3/13/20', '3/14/20', '3/15/20', '3/16/20', '3/17/20', '3/18/20', '3/19/20', '3/20/20', '3/21/20', '3/22/20', '3/23/20', '3/24/20', '3/25/20', '3/26/20', '3/27/20', '3/28/20', '3/29/20', '3/30/20', '3/31/20', '4/1/20', '4/2/20', '4/3/20', '4/4/20', '4/5/20', '4/6/20', '4/7/20', '4/8/20', '4/9/20', '4/10/20', '4/11/20', '4/12/20', '4/13/20', '4/14/20', '4/15/20', '4/16/20', '4/17/20', '4/18/20', '4/19/20', '4/20/20', '4/21/20', '4/22/20', '4/23/20', '4/24/20', '4/25/20', '4/26/20', '4/27/20', '4/28/20', '4/29/20', '4/30/20', '5/1/20', '5/2/20', '5/3/20', '5/4/20', '5/5/20', '5/6/20', '5/7/20', '5/8/20', '5/9/20', '5/10/20', '5/11/20', '5/12/20', '5/13/20', '5/14/20')"
   ]
  },
  {
   "cell_type": "code",
   "execution_count": 49,
   "metadata": {},
   "outputs": [
    {
     "data": {
      "application/vnd.jupyter.widget-view+json": {
       "model_id": "f336b617eee9434e92f1f6990db709b0",
       "version_major": 2,
       "version_minor": 0
      },
      "text/plain": [
       "VBox()"
      ]
     },
     "metadata": {},
     "output_type": "display_data"
    },
    {
     "data": {
      "application/vnd.jupyter.widget-view+json": {
       "model_id": "",
       "version_major": 2,
       "version_minor": 0
      },
      "text/plain": [
       "FloatProgress(value=0.0, bar_style='info', description='Progress:', layout=Layout(height='25px', width='50%'),…"
      ]
     },
     "metadata": {},
     "output_type": "display_data"
    },
    {
     "name": "stdout",
     "output_type": "stream",
     "text": [
      "['1/22/20', '1/23/20', '1/24/20', '1/25/20', '1/26/20', '1/27/20', '1/28/20', '1/29/20', '1/30/20', '1/31/20', '2/1/20', '2/2/20', '2/3/20', '2/4/20', '2/5/20', '2/6/20', '2/7/20', '2/8/20', '2/9/20', '2/10/20', '2/11/20', '2/12/20', '2/13/20', '2/14/20', '2/15/20', '2/16/20', '2/17/20', '2/18/20', '2/19/20', '2/20/20', '2/21/20', '2/22/20', '2/23/20', '2/24/20', '2/25/20', '2/26/20', '2/27/20', '2/28/20', '2/29/20', '3/1/20', '3/2/20', '3/3/20', '3/4/20', '3/5/20', '3/6/20', '3/7/20', '3/8/20', '3/9/20', '3/10/20', '3/11/20', '3/12/20', '3/13/20', '3/14/20', '3/15/20', '3/16/20', '3/17/20', '3/18/20', '3/19/20', '3/20/20', '3/21/20', '3/22/20', '3/23/20', '3/24/20', '3/25/20', '3/26/20', '3/27/20', '3/28/20', '3/29/20', '3/30/20', '3/31/20', '4/1/20', '4/2/20', '4/3/20', '4/4/20', '4/5/20', '4/6/20', '4/7/20', '4/8/20', '4/9/20', '4/10/20', '4/11/20', '4/12/20', '4/13/20', '4/14/20', '4/15/20', '4/16/20', '4/17/20', '4/18/20', '4/19/20', '4/20/20', '4/21/20', '4/22/20', '4/23/20', '4/24/20', '4/25/20', '4/26/20', '4/27/20', '4/28/20', '4/29/20', '4/30/20', '5/1/20', '5/2/20', '5/3/20', '5/4/20', '5/5/20', '5/6/20', '5/7/20', '5/8/20', '5/9/20', '5/10/20', '5/11/20', '5/12/20', '5/13/20', '5/14/20']"
     ]
    }
   ],
   "source": [
    "#DataFrame por días#\n",
    "dfm_per_days.columns"
   ]
  },
  {
   "cell_type": "code",
   "execution_count": 54,
   "metadata": {},
   "outputs": [
    {
     "data": {
      "application/vnd.jupyter.widget-view+json": {
       "model_id": "6bde7b5c99db40b6a4af7422e64a4378",
       "version_major": 2,
       "version_minor": 0
      },
      "text/plain": [
       "VBox()"
      ]
     },
     "metadata": {},
     "output_type": "display_data"
    },
    {
     "data": {
      "application/vnd.jupyter.widget-view+json": {
       "model_id": "",
       "version_major": 2,
       "version_minor": 0
      },
      "text/plain": [
       "FloatProgress(value=0.0, bar_style='info', description='Progress:', layout=Layout(height='25px', width='50%'),…"
      ]
     },
     "metadata": {},
     "output_type": "display_data"
    },
    {
     "name": "stdout",
     "output_type": "stream",
     "text": [
      "Total casos confirmados a nivel mundial: 4442163"
     ]
    }
   ],
   "source": [
    "#casos confirmados a nivel mundial#\n",
    "casos_por_dia = dfm_per_days.select(dfm_per_days.columns[-1])\n",
    "Total_Global = casos_por_dia.groupBy().sum().collect()[0][0]\n",
    "print('Total casos confirmados a nivel mundial:', Total_Global)"
   ]
  },
  {
   "cell_type": "code",
   "execution_count": null,
   "metadata": {},
   "outputs": [],
   "source": []
  }
 ],
 "metadata": {
  "kernelspec": {
   "display_name": "PySpark",
   "language": "",
   "name": "pysparkkernel"
  },
  "language_info": {
   "codemirror_mode": {
    "name": "python",
    "version": 2
   },
   "mimetype": "text/x-python",
   "name": "pyspark",
   "pygments_lexer": "python2"
  }
 },
 "nbformat": 4,
 "nbformat_minor": 4
}
